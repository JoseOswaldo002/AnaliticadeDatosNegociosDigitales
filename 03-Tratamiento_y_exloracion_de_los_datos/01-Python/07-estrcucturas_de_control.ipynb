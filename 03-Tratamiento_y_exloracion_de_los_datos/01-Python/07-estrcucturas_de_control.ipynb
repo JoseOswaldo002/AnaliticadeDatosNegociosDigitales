{
 "cells": [
  {
   "cell_type": "markdown",
   "id": "9f05f840",
   "metadata": {},
   "source": [
    "## Estructuras de control \n",
    "\n",
    "### Objetivo:\n",
    "- Conocer las estructuras\n",
    "\n",
    "---"
   ]
  },
  {
   "cell_type": "markdown",
   "id": "4670abe0",
   "metadata": {},
   "source": [
    "### Desarrollo\n"
   ]
  },
  {
   "cell_type": "markdown",
   "id": "dcdbf09f",
   "metadata": {},
   "source": [
    "Queremos darle a nuestro programa la capacidad de tomar deciciones. Esto puede hacerse utilizando ua `Sentencia if` utiliza una comparacion para obtener un boolean. Si el booleano es `True` el bloque de la sentencia se ejecuta. Si el booleano es `False` nos saltamos a lo que sigue despues del bloque."
   ]
  },
  {
   "cell_type": "code",
   "execution_count": 3,
   "id": "82630824",
   "metadata": {},
   "outputs": [],
   "source": [
    "var1 = 4\n",
    "var2 = 5"
   ]
  },
  {
   "cell_type": "code",
   "execution_count": 4,
   "id": "8de0eed8",
   "metadata": {},
   "outputs": [
    {
     "name": "stdout",
     "output_type": "stream",
     "text": [
      "El bloque se ha ejecutado\n"
     ]
    }
   ],
   "source": [
    "if var1 < var2:\n",
    "    print('El bloque se ha ejecutado')"
   ]
  },
  {
   "cell_type": "code",
   "execution_count": 5,
   "id": "9f408651",
   "metadata": {},
   "outputs": [],
   "source": [
    "var1 = int(input('Intruduce el valor: '))\n",
    "var2 = int(input('Intruduce el valor: '))\n",
    "\n",
    "if var1 < var2:\n",
    "    print(f\"El numero {var1} es menor que el numero {var2}\")"
   ]
  },
  {
   "cell_type": "code",
   "execution_count": 6,
   "id": "281ad65a",
   "metadata": {},
   "outputs": [],
   "source": [
    "# Funcion que solicita un valor\n",
    "\n",
    "def solicitar ():\n",
    "    return int(input('Intruduce el valor: '))"
   ]
  },
  {
   "cell_type": "code",
   "execution_count": 7,
   "id": "b3649e97",
   "metadata": {},
   "outputs": [],
   "source": [
    "# Funcion que hace la comparacion\n",
    "\n",
    "def comparar (valor_uno, valor_dos):\n",
    "    if valor_uno < valor_dos:\n",
    "        print(f\"El numero {valor_uno} es menor que el numero {valor_dos}\")"
   ]
  },
  {
   "cell_type": "code",
   "execution_count": null,
   "id": "ccd53fcd",
   "metadata": {},
   "outputs": [],
   "source": [
    "# Ejecucion de las funciones \n",
    "var1 = solicitar()\n",
    "var2 = solicitar()\n",
    "\n",
    "comparar(var1, var2)"
   ]
  },
  {
   "cell_type": "markdown",
   "id": "3cc84116",
   "metadata": {},
   "source": [
    "#### Ejecucion de las funciones"
   ]
  },
  {
   "cell_type": "markdown",
   "id": "b9d8087a",
   "metadata": {},
   "source": [
    "1. **Desarrollar un programa que determine si un número es positivo**\n",
    "\n",
    "2. **Desarrollar un programa que determine si puedes votar**\n",
    "\n",
    "3. **Verificar si un número es par**\n",
    "\n",
    "4. **Realizar una simulación de un login, en el cual se debe verificar si la contraseña es correcta**\n",
    "\n",
    "5. **Realizar un programa que determine si un alumno está aprobado, la calificación mínima es 7**"
   ]
  },
  {
   "cell_type": "code",
   "execution_count": 8,
   "id": "146cc58c",
   "metadata": {},
   "outputs": [
    {
     "name": "stdout",
     "output_type": "stream",
     "text": [
      "El numero 5 es positivo\n"
     ]
    }
   ],
   "source": [
    "# Desarrollar un programa que determine si un número es positivo**\n",
    "var_positivo = int(input('Intruduce el valor: '))\n",
    "\n",
    "var_comparable = 0\n",
    "\n",
    "if var_positivo > var_comparable:\n",
    "    print(f\"El numero {var_positivo} es positivo\")\n",
    "else: \n",
    "    print('El numero es negativo')\n",
    "\n"
   ]
  },
  {
   "cell_type": "code",
   "execution_count": 9,
   "id": "9d75414e",
   "metadata": {},
   "outputs": [],
   "source": [
    "# Desarrollar un programa que determine si puedes votar\n",
    "\n",
    "edad = int(input('Intruduce Tu edad: '))\n",
    "\n",
    "edad_comparable = 18\n",
    "\n",
    "if edad >= edad_comparable:\n",
    "    print(f\"Tienes {edad} puedes votar\")"
   ]
  },
  {
   "cell_type": "code",
   "execution_count": 10,
   "id": "4d7f168b",
   "metadata": {},
   "outputs": [],
   "source": [
    "# Verificar si un número es par\n",
    "\n",
    "numero_par = int(input('Intruduce tu numero: '))\n",
    "\n",
    "if numero_par % 2 == 0:\n",
    "    print(f'El número {numero_par} es par')\n"
   ]
  },
  {
   "cell_type": "code",
   "execution_count": 11,
   "id": "9079d678",
   "metadata": {},
   "outputs": [
    {
     "name": "stdout",
     "output_type": "stream",
     "text": [
      "Adios moreno\n"
     ]
    }
   ],
   "source": [
    "# una simulación de un login, en el cual se debe verificar si la contraseña es correcta\n",
    "\n",
    "edad = int(input('Intruduce tu contrasena: '))\n",
    "\n",
    "contrasena_1 = 12345\n",
    "\n",
    "if edad == contrasena_1:\n",
    "    print(f\"Tienes acceso\")\n",
    "else:\n",
    "    print('Adios moreno')"
   ]
  },
  {
   "cell_type": "code",
   "execution_count": 12,
   "id": "e85b1b1c",
   "metadata": {},
   "outputs": [
    {
     "name": "stdout",
     "output_type": "stream",
     "text": [
      "Aprovado\n"
     ]
    }
   ],
   "source": [
    "# Realizar un programa que determine si un alumno está aprobado, la calificación mínima es 7\n",
    "\n",
    "cal = int(input('Intruduce tu contrasena: '))\n",
    "\n",
    "cal_aprovatoria = 7\n",
    "\n",
    "if cal >= cal_aprovatoria:\n",
    "    print(f\"Aprovado\")\n",
    "else:\n",
    "    print('Mamaste')"
   ]
  },
  {
   "cell_type": "markdown",
   "id": "077e898d",
   "metadata": {},
   "source": [
    "## Operadores Logicos\n",
    "\n",
    "### Operador `or`\n",
    "\n",
    "| A   | B   | A or B |\n",
    "|-----|-----|--------|\n",
    "| F   | F   | F      |\n",
    "| T   | F   | T      |\n",
    "| F   | T   | T      |\n",
    "| T   | T   | T      |\n",
    "\n",
    "### Operador `and`\n",
    "\n",
    "| A   | B   | A and B |\n",
    "|-----|-----|---------|\n",
    "| F   | F   | F       |\n",
    "| T   | F   | F       |\n",
    "| F   | T   | F       |\n",
    "| T   | T   | T       |\n",
    "\n",
    "### Operador `not`\n",
    "\n",
    "| A   | not A |\n",
    "|-----|--------|\n",
    "| F   | T      |\n",
    "| T   | F      |\n",
    "\n",
    "\n"
   ]
  },
  {
   "cell_type": "code",
   "execution_count": 13,
   "id": "5435ada8",
   "metadata": {},
   "outputs": [
    {
     "data": {
      "text/plain": [
       "False"
      ]
     },
     "execution_count": 13,
     "metadata": {},
     "output_type": "execute_result"
    }
   ],
   "source": [
    "resultado = 4>5 and 5 == 5\n",
    "resultado"
   ]
  },
  {
   "cell_type": "code",
   "execution_count": 14,
   "id": "b82f5b33",
   "metadata": {},
   "outputs": [
    {
     "data": {
      "text/plain": [
       "True"
      ]
     },
     "execution_count": 14,
     "metadata": {},
     "output_type": "execute_result"
    }
   ],
   "source": [
    "resultado = not(4>5 and 5 == 5)\n",
    "resultado"
   ]
  },
  {
   "cell_type": "code",
   "execution_count": 15,
   "id": "972eaf00",
   "metadata": {},
   "outputs": [
    {
     "data": {
      "text/plain": [
       "True"
      ]
     },
     "execution_count": 15,
     "metadata": {},
     "output_type": "execute_result"
    }
   ],
   "source": [
    "resultado = not 4>5 or 5 == 5\n",
    "resultado"
   ]
  },
  {
   "cell_type": "markdown",
   "id": "fc1a3aa2",
   "metadata": {},
   "source": [
    "1. Verificar si un número está dentro del rango de 10 a 20.\n",
    "\n",
    "2. Verificar si un usuario tiene acceso al Charly's si tiene mínimo 18 años o permiso especial.\n",
    "\n",
    "3. Verificar si un número no es igual a 0.\n",
    "\n",
    "3. Verificar si un valor está fuera del rango de 0 a 30."
   ]
  },
  {
   "cell_type": "code",
   "execution_count": 4,
   "id": "2c6eaca7",
   "metadata": {},
   "outputs": [
    {
     "name": "stdout",
     "output_type": "stream",
     "text": [
      "El número está dentro del rango de 10 a 20.\n"
     ]
    }
   ],
   "source": [
    "numero = 15\n",
    "\n",
    "if numero >= 10 and numero <= 20:\n",
    "    print(\"El número está dentro del rango de 10 a 20.\")\n",
    "else:\n",
    "    print(\"El número NO está dentro del rango de 10 a 20.\")\n"
   ]
  },
  {
   "cell_type": "code",
   "execution_count": 6,
   "id": "9c4e00a2",
   "metadata": {},
   "outputs": [
    {
     "name": "stdout",
     "output_type": "stream",
     "text": [
      "No tienes acceso al Charly's.\n"
     ]
    }
   ],
   "source": [
    "# Verificar si un usuario tiene acceso al Charly's si tiene mínimo 18 años o permiso especial.\n",
    "\n",
    "edad = 16\n",
    "permiso_especial = False\n",
    "\n",
    "if edad >= 18 or permiso_especial:\n",
    "    print(\"Tienes acceso al Charly's.\")\n",
    "else:\n",
    "    print(\"No tienes acceso al Charly's.\")\n"
   ]
  },
  {
   "cell_type": "code",
   "execution_count": 7,
   "id": "fdb809b3",
   "metadata": {},
   "outputs": [
    {
     "name": "stdout",
     "output_type": "stream",
     "text": [
      "El número NO es igual a 0.\n"
     ]
    }
   ],
   "source": [
    "# Verificar si un número no es igual a 0.\n",
    "numero = 5\n",
    "\n",
    "if numero != 0:\n",
    "    print(\"El número NO es igual a 0.\")\n",
    "else:\n",
    "    print(\"El número es igual a 0.\")\n"
   ]
  },
  {
   "cell_type": "code",
   "execution_count": 8,
   "id": "3792b6d5",
   "metadata": {},
   "outputs": [
    {
     "name": "stdout",
     "output_type": "stream",
     "text": [
      "El valor está FUERA del rango de 0 a 30.\n"
     ]
    }
   ],
   "source": [
    "# Verificar si un valor está fuera del rango de 0 a 30.\n",
    "valor = 35\n",
    "\n",
    "if valor < 0 or valor > 30:\n",
    "    print(\"El valor está FUERA del rango de 0 a 30.\")\n",
    "else:\n",
    "    print(\"El valor está dentro del rango de 0 a 30.\")\n"
   ]
  },
  {
   "cell_type": "markdown",
   "id": "494651c8",
   "metadata": {},
   "source": [
    "A veces queremos tener una acción por `default`, que se ejecute en caso de que la comparación sea `FALSE`. Para esto, podemos usar una sentencia `else`.\n",
    "\n",
    "Piénsalo como preguntarte a ti mismo:\n",
    "\n",
    "“Si meto mi mano a la bolsa y resulta que encuentro un billete de $50 pesos, me compro unos nachos; y si no hay nada, veré una película con mi novia, llorando de tristeza porque no es el otro.”"
   ]
  },
  {
   "cell_type": "code",
   "execution_count": 20,
   "id": "321e5b6b",
   "metadata": {},
   "outputs": [
    {
     "name": "stdout",
     "output_type": "stream",
     "text": [
      "La condicion no se ha cumplido, y por lo tanto no se ha cumplido\n"
     ]
    }
   ],
   "source": [
    "var_1 = 4\n",
    "var_2 = 5\n",
    "\n",
    "if var_1 > var_2:\n",
    "    print('La condicion se cumplio')\n",
    "else:\n",
    "    print('La condicion no se ha cumplido, y por lo tanto no se ha cumplido')"
   ]
  },
  {
   "cell_type": "code",
   "execution_count": 21,
   "id": "9e8a1dbe",
   "metadata": {},
   "outputs": [],
   "source": [
    "# Encontrar el numero mas grande de 2 numeros \n",
    "\n",
    "number_1 = int(input('Introduce el numero 1'))\n",
    "number_2 = int(input('Introduce el numero 2'))\n",
    "\n",
    "## Elegir el numero mas grande\n",
    "\n",
    "if number_1 > number_2:\n",
    "    print(f\"El numero {number_1} es mayor al numero {number_2}\")\n",
    "else:\n",
    "    (f'El numero {number_2} es mayor al numero {number_1}')"
   ]
  },
  {
   "cell_type": "code",
   "execution_count": 22,
   "id": "5d4c463c",
   "metadata": {},
   "outputs": [
    {
     "name": "stdout",
     "output_type": "stream",
     "text": [
      "El numero mayor es: 5\n"
     ]
    }
   ],
   "source": [
    "number_1 = int(input('Introduce el numero 1'))\n",
    "number_2 = int(input('Introduce el numero 2'))\n",
    "\n",
    "if number_1>number_2:\n",
    "    numero_mayor = number_1\n",
    "else:\n",
    "    numero_mayor =  number_2\n",
    "    \n",
    "print(f'El numero mayor es: {numero_mayor}')"
   ]
  },
  {
   "cell_type": "markdown",
   "id": "e3dfcdfc",
   "metadata": {},
   "source": [
    "Si queremos que haya mas de dos opciones, podemos agregar opciones\n",
    "utilizando la sentencia `elif`"
   ]
  },
  {
   "cell_type": "code",
   "execution_count": 24,
   "id": "e4bbf3d8",
   "metadata": {},
   "outputs": [
    {
     "name": "stdout",
     "output_type": "stream",
     "text": [
      "El 14 es mayor 12\n"
     ]
    }
   ],
   "source": [
    "var_1 = 14\n",
    "var_2 = 12\n",
    "if var_1 > var_2:\n",
    "    print(f'El {var_1} es mayor {var_2}')\n",
    "elif var_2 > var_1:\n",
    "    print(f'El {var_1} es mayor {var_1}')\n",
    "else:\n",
    "    print(f'El {var_1} es igual al {var_2}')"
   ]
  },
  {
   "cell_type": "markdown",
   "id": "c01343fa",
   "metadata": {},
   "source": [
    "#### 1. Comparaciones numéricas\n",
    "\n",
    "Vamos a imaginar que estamos analizando un conjunto de datos que contiene las ventas anuales en pesos de unos vendedores que trabajan en nuestra empresa. Obtenemos el total de ventas anuales en pesos y lo tenemos asignado a la variable ventas_anuales_totales. Escribe una estructura de control que nos diga de cuánto va a ser el bono de nuestro empleado.\n",
    "\n",
    "Si las ventas son mayores a `$`1,000,000 el bono será de 20% del sueldo; si son entre `$`700,000 y `$`1,000,000 el bono será de 15% del sueldo; entre `$`400,000 y `$`700,000 el bono será de 10% del sueldo; entre `$`100,00 y 400,000 el bono será de 5% del sueldo; y debajo de `$`100,000 el bono será del 1% del sueldo.\n",
    "\n",
    "Escribe tu estructura de control y, por ahora (más adelante tendremos más herramientas para hacer esto más interesante) imprime una string que diga de cuánto va a ser el bono.\n",
    "\n",
    "> Reto opcional: Agrega una variable sueldo que sea el sueldo de tu empleado y agrégale el porcentaje de bono a esa variable dependiendo de la condición que se cumpla. Después hasta el final imprime una string interpolada que diga algo como \"Felicidades, tu sueldo es x; tu bono es de x; y el total de sueldo con el bono incluido es de x\". ¡Para que esto funcione también debes de agregar una variable donde guardes la cantidad del bono!"
   ]
  },
  {
   "cell_type": "code",
   "execution_count": 1,
   "id": "6346ff7e",
   "metadata": {},
   "outputs": [
    {
     "name": "stdout",
     "output_type": "stream",
     "text": [
      "Tu sueldo es $45333; tu bono es de $9066.6\n"
     ]
    }
   ],
   "source": [
    "ventas_anuales_totales = int(input('Introduce las ventas totales anuales: '))\n",
    "sueldo = int(input('Introduce tu sueldo: '))\n",
    "\n",
    "\n",
    "if ventas_anuales_totales >= 1000000:\n",
    "    bono_f = sueldo * 0.20\n",
    "elif ventas_anuales_totales > 700000 and ventas_anuales_totales < 1000000:\n",
    "    bono_f = sueldo * 0.15 \n",
    "elif ventas_anuales_totales > 400000 and ventas_anuales_totales < 700000:\n",
    "    bono_f = sueldo * 0.15\n",
    "elif ventas_anuales_totales >= 10000 and ventas_anuales_totales < 40000:\n",
    "    bono_f = sueldo * 0.15  \n",
    "else:\n",
    "    bono_f = ventas_anuales_totales * 0.01\n",
    "print(f'Tu sueldo es ${sueldo}; tu bono es de ${bono_f}')\n"
   ]
  }
 ],
 "metadata": {
  "kernelspec": {
   "display_name": "Python 3",
   "language": "python",
   "name": "python3"
  },
  "language_info": {
   "codemirror_mode": {
    "name": "ipython",
    "version": 3
   },
   "file_extension": ".py",
   "mimetype": "text/x-python",
   "name": "python",
   "nbconvert_exporter": "python",
   "pygments_lexer": "ipython3",
   "version": "3.13.2"
  }
 },
 "nbformat": 4,
 "nbformat_minor": 5
}
