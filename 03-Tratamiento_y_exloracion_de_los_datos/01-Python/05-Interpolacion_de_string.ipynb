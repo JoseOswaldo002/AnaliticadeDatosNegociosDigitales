{
 "cells": [
  {
   "cell_type": "markdown",
   "id": "8b5d0440",
   "metadata": {},
   "source": [
    "## Interpolacion\n",
    "\n",
    "### Objetivos:\n",
    "\n",
    "- Imprimir strings\n",
    "- Aprender a interpolar variables dentro de strings\n",
    "\n",
    " ---\n",
    "### Desarrollo"
   ]
  },
  {
   "cell_type": "markdown",
   "id": "dc32d44c",
   "metadata": {},
   "source": [
    "Podermos hacer anotaciones en ouputs de nuestro codigo de esta manera:"
   ]
  },
  {
   "cell_type": "code",
   "execution_count": 40,
   "id": "aee12231",
   "metadata": {},
   "outputs": [
    {
     "name": "stdout",
     "output_type": "stream",
     "text": [
      "Sumar de var_1 y var_2\n",
      "38.7\n"
     ]
    }
   ],
   "source": [
    "var_1 = 15.3\n",
    "var_2 = 23.4\n",
    "\n",
    "print(\"Sumar de var_1 y var_2\")\n",
    "print(var_1 + var_2)"
   ]
  },
  {
   "cell_type": "code",
   "execution_count": 41,
   "id": "2f5b9f30",
   "metadata": {},
   "outputs": [],
   "source": [
    "var_1 = 15.3\n",
    "var_2 = 23.4"
   ]
  },
  {
   "cell_type": "markdown",
   "id": "26071f46",
   "metadata": {},
   "source": [
    "Pero a veces resulta necesario o deseable interpolar el valor de la variable dentro de dicho\n",
    "string. Para esto utilizamos las llamadas `f-strings` . El formato de una `f-strings` es el\n",
    "siguiente:\n",
    "\n",
    "`f\"Esto es textb {esto_es_una_variable} esto es mas texto`\n",
    "\n",
    "\n",
    "Escribiendo una `f` antes de las comillas le indicamos a Python que lo que pongas dentro de\n",
    "las llaves (`{}`) será código de Python. En este caso, una variable asignada previamente.\n",
    "\n",
    "Ahora podemos hacer lo siguiente:\n"
   ]
  },
  {
   "cell_type": "code",
   "execution_count": 42,
   "id": "b6420bbc",
   "metadata": {},
   "outputs": [
    {
     "name": "stdout",
     "output_type": "stream",
     "text": [
      "La suma 67.3\n"
     ]
    }
   ],
   "source": [
    "var_3 = 43\n",
    "var_4 = 24.3\n",
    "\n",
    "suma = var_3 + var_4\n",
    "print (f'La suma {suma}')"
   ]
  },
  {
   "cell_type": "code",
   "execution_count": 43,
   "id": "80ccd90e",
   "metadata": {},
   "outputs": [
    {
     "name": "stdout",
     "output_type": "stream",
     "text": [
      "El nombre del Programa es: Hola y la suma de los valores 8.0 + 8.0 es: 16.0\n"
     ]
    }
   ],
   "source": [
    "nombre_programa = input('Introduce el Nombre del Programa')\n",
    "var_3 = float(input('Introduce el primer valor'))\n",
    "var_4 = float(input('Introduce el segundo valor'))\n",
    "\n",
    "suma = var_3 + var_4\n",
    "\n",
    "print(f'El nombre del Programa es: {nombre_programa} y la suma de los valores {var_3} + {var_4} es: {suma}')"
   ]
  },
  {
   "cell_type": "code",
   "execution_count": null,
   "id": "d6c34f35",
   "metadata": {},
   "outputs": [],
   "source": [
    "def sumar(numero1, numero2):\n",
    "    return numero1 + numero2"
   ]
  },
  {
   "cell_type": "code",
   "execution_count": 54,
   "id": "11af48ad",
   "metadata": {},
   "outputs": [
    {
     "name": "stdout",
     "output_type": "stream",
     "text": [
      "10.0\n"
     ]
    }
   ],
   "source": [
    "def SolicitarValor ():\n",
    "    return float(input('Introduce el primer valor'))\n",
    "\n",
    "var_8 = SolicitarValor()\n",
    "var_9 = SolicitarValor()\n",
    "\n",
    "resultado = sumar(var_8, var_9)\n",
    "print(resultado)\n"
   ]
  },
  {
   "cell_type": "code",
   "execution_count": null,
   "id": "c3395ee6",
   "metadata": {},
   "outputs": [
    {
     "name": "stdout",
     "output_type": "stream",
     "text": [
      "16.0\n"
     ]
    }
   ],
   "source": [
    "var_3 = float(input('introduce el primer valor'))\n",
    "var_4 = float(input('introduce el segundo valor'))\n",
    "\n",
    "sumar = sumar (var_3, var_4)\n",
    "\n",
    "print(sumar)"
   ]
  }
 ],
 "metadata": {
  "kernelspec": {
   "display_name": "Python 3",
   "language": "python",
   "name": "python3"
  },
  "language_info": {
   "codemirror_mode": {
    "name": "ipython",
    "version": 3
   },
   "file_extension": ".py",
   "mimetype": "text/x-python",
   "name": "python",
   "nbconvert_exporter": "python",
   "pygments_lexer": "ipython3",
   "version": "3.13.2"
  }
 },
 "nbformat": 4,
 "nbformat_minor": 5
}
