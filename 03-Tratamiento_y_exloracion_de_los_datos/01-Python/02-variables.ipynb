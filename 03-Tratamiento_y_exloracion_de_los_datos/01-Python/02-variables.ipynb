{
 "cells": [
  {
   "cell_type": "markdown",
   "id": "302dd23e",
   "metadata": {},
   "source": [
    "## Ejemplo 2: Variables\n",
    "\n",
    "### 1 Objetivos:\n",
    "- Entender cual es la sitaxis de la asignacion de variables de python\n",
    "- Aprender la convencion de nombramiento de variables"
   ]
  },
  {
   "cell_type": "markdown",
   "id": "13631f31",
   "metadata": {},
   "source": [
    "### 2. Desarrollo\n",
    "\n",
    "Los siguientes nombres son nombres posibles de variables un python:\n",
    "\n",
    "- var_1\n",
    "- variable_2\n",
    "- variable_dos\n",
    "- variable_nueva_3\n",
    "- esta_es_una_variable_nueva"
   ]
  },
  {
   "cell_type": "markdown",
   "id": "eac4b6c3",
   "metadata": {},
   "source": [
    "Los siguientes son nombres ivalidos para una variable en python:\n",
    "- 1_2\n",
    "- 1_variable\n",
    "- variableDos\n",
    "- EstaEsUnaVariabel\n",
    "- Soy una variable "
   ]
  },
  {
   "cell_type": "markdown",
   "id": "4566dfdd",
   "metadata": {},
   "source": [
    "Asignemos unas cuantas variables"
   ]
  },
  {
   "cell_type": "code",
   "execution_count": 20,
   "id": "67a02a00",
   "metadata": {},
   "outputs": [],
   "source": [
    "var_1 = 3\n",
    "var_2 = 6\n",
    "variable_3 = 10\n",
    "variable_nueva_4 = 20"
   ]
  },
  {
   "cell_type": "markdown",
   "id": "ea97d641",
   "metadata": {},
   "source": [
    "Podemos acceder a su contenido con tan solo escribir el nombre de la variable"
   ]
  },
  {
   "cell_type": "code",
   "execution_count": 21,
   "id": "1ef2d251",
   "metadata": {},
   "outputs": [
    {
     "data": {
      "text/plain": [
       "3"
      ]
     },
     "execution_count": 21,
     "metadata": {},
     "output_type": "execute_result"
    }
   ],
   "source": [
    "var_1"
   ]
  },
  {
   "cell_type": "code",
   "execution_count": 22,
   "id": "31c59085",
   "metadata": {},
   "outputs": [
    {
     "data": {
      "text/plain": [
       "20"
      ]
     },
     "execution_count": 22,
     "metadata": {},
     "output_type": "execute_result"
    }
   ],
   "source": [
    "variable_nueva_4"
   ]
  },
  {
   "cell_type": "markdown",
   "id": "55a47e5e",
   "metadata": {},
   "source": [
    "Si intento llamar una variable que no se ha asignado o no exite, JN va a lanzar un error"
   ]
  },
  {
   "cell_type": "code",
   "execution_count": 23,
   "id": "bab8625b",
   "metadata": {},
   "outputs": [
    {
     "ename": "NameError",
     "evalue": "name 'var_5' is not defined",
     "output_type": "error",
     "traceback": [
      "\u001b[31m---------------------------------------------------------------------------\u001b[39m",
      "\u001b[31mNameError\u001b[39m                                 Traceback (most recent call last)",
      "\u001b[36mCell\u001b[39m\u001b[36m \u001b[39m\u001b[32mIn[23]\u001b[39m\u001b[32m, line 1\u001b[39m\n\u001b[32m----> \u001b[39m\u001b[32m1\u001b[39m \u001b[43mvar_5\u001b[49m\n",
      "\u001b[31mNameError\u001b[39m: name 'var_5' is not defined"
     ]
    }
   ],
   "source": [
    "var_5"
   ]
  },
  {
   "cell_type": "markdown",
   "id": "b8ddd9ed",
   "metadata": {},
   "source": [
    "De igual, manera, si se escribe una signacion, pero no se corre la celda, esa variable no estara disponible para el notebook mas adelante"
   ]
  },
  {
   "cell_type": "code",
   "execution_count": 24,
   "id": "9844120c",
   "metadata": {},
   "outputs": [],
   "source": [
    "var_2 = 89"
   ]
  },
  {
   "cell_type": "code",
   "execution_count": 25,
   "id": "25ef775f",
   "metadata": {},
   "outputs": [
    {
     "data": {
      "text/plain": [
       "89"
      ]
     },
     "execution_count": 25,
     "metadata": {},
     "output_type": "execute_result"
    }
   ],
   "source": [
    "var_2"
   ]
  },
  {
   "cell_type": "markdown",
   "id": "ee5b9505",
   "metadata": {},
   "source": [
    "# Reto 1: Variables:\n",
    "\n",
    "### 1. Objetivos\n",
    "    - Practica convencion de nombramiento y asignacion de variables\n",
    "\n",
    "### 2. Desarrollo\n",
    "    - Realiza la siguiente practica"
   ]
  },
  {
   "cell_type": "code",
   "execution_count": null,
   "id": "1e50d78e",
   "metadata": {},
   "outputs": [],
   "source": [
    "# Asigna el numero 12345 a una variable llamada variable_locochona\n",
    "\n",
    "variable_locochona = 123456\n",
    "\n",
    "\n",
    "\n",
    "# Asigna el numero 14.567 a la variable var_decimal\n",
    "\n",
    "var_decimal = 14.567\n",
    "\n",
    "\n",
    "\n",
    "# Asigna un numero calquiera a una variable que tenca cinco palabras en su nombre\n",
    "\n",
    "\n",
    "compu_teclado_monitor_escritorio_mouse = 888\n",
    "\n",
    "\n",
    "# Asigna cualquier numero a una varible que incluya palabras y numeros\n",
    "\n",
    "ley_87 = 17\n"
   ]
  }
 ],
 "metadata": {
  "kernelspec": {
   "display_name": "Python 3",
   "language": "python",
   "name": "python3"
  },
  "language_info": {
   "codemirror_mode": {
    "name": "ipython",
    "version": 3
   },
   "file_extension": ".py",
   "mimetype": "text/x-python",
   "name": "python",
   "nbconvert_exporter": "python",
   "pygments_lexer": "ipython3",
   "version": "3.13.2"
  }
 },
 "nbformat": 4,
 "nbformat_minor": 5
}
