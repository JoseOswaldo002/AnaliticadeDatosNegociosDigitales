{
 "cells": [
  {
   "cell_type": "markdown",
   "id": "c2e111e0",
   "metadata": {},
   "source": [
    "# Ejemplo 1: Esto es un Notebool de Practica\n",
    "\n",
    "---\n",
    "\n",
    "### 1. Objetivos: \n",
    "- Repasar rapidamente como funciona un Jupyter Notebook\n",
    "\n",
    "### 2. Requisistos:\n",
    "- Jupiter Notebook instalado\n",
    "\n",
    "--- "
   ]
  },
  {
   "cell_type": "markdown",
   "id": "9909f852",
   "metadata": {},
   "source": [
    "En JN tenemos `Modo comando` y `Modo edicion`.\n",
    "\n",
    "- El `modo edicion` sirve para editar celdas\n",
    "- El  `modo comando` sirve para usar comandos en el JN"
   ]
  },
  {
   "cell_type": "markdown",
   "id": "fa083fe7",
   "metadata": {},
   "source": [
    "Esto es una celda Markdown"
   ]
  },
  {
   "cell_type": "code",
   "execution_count": 17,
   "id": "b1c6cf6d",
   "metadata": {},
   "outputs": [],
   "source": [
    "# Esto es una celda de codigo\n",
    "# Y yo soy un comentario..."
   ]
  },
  {
   "cell_type": "markdown",
   "id": "137076d4",
   "metadata": {},
   "source": [
    "Escribamos algo de codigo para recordar:"
   ]
  },
  {
   "cell_type": "code",
   "execution_count": 18,
   "id": "cc8d9639",
   "metadata": {},
   "outputs": [
    {
     "data": {
      "text/plain": [
       "9"
      ]
     },
     "execution_count": 18,
     "metadata": {},
     "output_type": "execute_result"
    }
   ],
   "source": [
    "var_1 = 4\n",
    "var_2 = 5\n",
    "\n",
    "var_1 + var_2"
   ]
  },
  {
   "cell_type": "code",
   "execution_count": 22,
   "id": "a3b99b90",
   "metadata": {},
   "outputs": [
    {
     "name": "stdout",
     "output_type": "stream",
     "text": [
      "4 5\n"
     ]
    }
   ],
   "source": [
    "print(var_1, var_2)"
   ]
  },
  {
   "cell_type": "code",
   "execution_count": 23,
   "id": "0c69be54",
   "metadata": {},
   "outputs": [
    {
     "ename": "TypeError",
     "evalue": "can only concatenate str (not \"int\") to str",
     "output_type": "error",
     "traceback": [
      "\u001b[31m---------------------------------------------------------------------------\u001b[39m",
      "\u001b[31mTypeError\u001b[39m                                 Traceback (most recent call last)",
      "\u001b[36mCell\u001b[39m\u001b[36m \u001b[39m\u001b[32mIn[23]\u001b[39m\u001b[32m, line 1\u001b[39m\n\u001b[32m----> \u001b[39m\u001b[32m1\u001b[39m \u001b[38;5;28mprint\u001b[39m(\u001b[38;5;28;43mstr\u001b[39;49m\u001b[43m(\u001b[49m\u001b[43mvar_1\u001b[49m\u001b[43m)\u001b[49m\u001b[43m \u001b[49m\u001b[43m+\u001b[49m\u001b[43m \u001b[49m\u001b[33;43m'\u001b[39;49m\u001b[33;43m,\u001b[39;49m\u001b[33;43m'\u001b[39;49m\u001b[43m \u001b[49m\u001b[43m+\u001b[49m\u001b[43m \u001b[49m\u001b[43m(\u001b[49m\u001b[43mvar_2\u001b[49m\u001b[43m)\u001b[49m)\n",
      "\u001b[31mTypeError\u001b[39m: can only concatenate str (not \"int\") to str"
     ]
    }
   ],
   "source": [
    "print(str(var_1) + ',' + (var_2))"
   ]
  },
  {
   "cell_type": "code",
   "execution_count": 25,
   "id": "c2ca46a6",
   "metadata": {},
   "outputs": [
    {
     "name": "stdout",
     "output_type": "stream",
     "text": [
      "4, 5\n"
     ]
    }
   ],
   "source": [
    "print(str(var_1) + ', ' + str(var_2))\n"
   ]
  },
  {
   "cell_type": "code",
   "execution_count": null,
   "id": "f8f08c2f",
   "metadata": {},
   "outputs": [],
   "source": [
    "print(var_1 + var_2)"
   ]
  },
  {
   "cell_type": "code",
   "execution_count": null,
   "id": "3d631d13",
   "metadata": {},
   "outputs": [],
   "source": [
    "var_1 = 10\n",
    "var_1 + var_2"
   ]
  }
 ],
 "metadata": {
  "kernelspec": {
   "display_name": "Python 3",
   "language": "python",
   "name": "python3"
  },
  "language_info": {
   "codemirror_mode": {
    "name": "ipython",
    "version": 3
   },
   "file_extension": ".py",
   "mimetype": "text/x-python",
   "name": "python",
   "nbconvert_exporter": "python",
   "pygments_lexer": "ipython3",
   "version": "3.13.2"
  }
 },
 "nbformat": 4,
 "nbformat_minor": 5
}
