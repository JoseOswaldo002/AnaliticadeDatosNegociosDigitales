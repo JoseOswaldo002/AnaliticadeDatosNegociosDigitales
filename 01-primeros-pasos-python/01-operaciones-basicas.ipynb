{
 "cells": [
  {
   "cell_type": "markdown",
   "id": "2a0c3c6b",
   "metadata": {},
   "source": [
    "# Operaciones Basicas en Python"
   ]
  },
  {
   "cell_type": "markdown",
   "id": "aec7e8f8",
   "metadata": {},
   "source": [
    "## Declaracion de Variables y asignacion de datos\n",
    "\n"
   ]
  },
  {
   "cell_type": "code",
   "execution_count": 1,
   "id": "33efc02c",
   "metadata": {},
   "outputs": [],
   "source": [
    "# Declaracion de variables y tipos\n",
    "\n",
    "a = 1 # Variable de tipo int\n",
    "b = 2.3 # Variable de tipo float\n",
    "c = True # Variable de tipo boolean\n",
    "d = False # Variable de tipo boolean\n",
    "e = \"Hola Mundo\" # Variables de Tipo Cadena\n",
    "f = 'Hola Negocios Digitales' # Variables de Tipo Cadena"
   ]
  },
  {
   "cell_type": "markdown",
   "id": "5b0211c6",
   "metadata": {},
   "source": []
  }
 ],
 "metadata": {
  "kernelspec": {
   "display_name": "Python 3",
   "language": "python",
   "name": "python3"
  },
  "language_info": {
   "codemirror_mode": {
    "name": "ipython",
    "version": 3
   },
   "file_extension": ".py",
   "mimetype": "text/x-python",
   "name": "python",
   "nbconvert_exporter": "python",
   "pygments_lexer": "ipython3",
   "version": "3.13.2"
  }
 },
 "nbformat": 4,
 "nbformat_minor": 5
}
