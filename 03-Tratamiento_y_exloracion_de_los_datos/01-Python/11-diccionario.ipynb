{
 "cells": [
  {
   "cell_type": "markdown",
   "id": "2c44de1f",
   "metadata": {},
   "source": [
    "># Crear y Accesar a los Diccionarios"
   ]
  },
  {
   "cell_type": "markdown",
   "id": "fcd8e734",
   "metadata": {},
   "source": [
    "### Objetvios\n",
    "\n",
    "- Aprender a crear diccionarios con pares llaves-valor\n",
    "- Aprender a accesar a los valores guardados en el diccionario"
   ]
  },
  {
   "cell_type": "markdown",
   "id": "105ea1b0",
   "metadata": {},
   "source": [
    "## Desarrollo\n",
    "\n",
    "Los diccionarios  se definen  usando ({})"
   ]
  },
  {
   "cell_type": "code",
   "execution_count": 1,
   "id": "4f899473",
   "metadata": {},
   "outputs": [],
   "source": [
    "diccionario_1 =  {}"
   ]
  },
  {
   "cell_type": "markdown",
   "id": "0e55fb34",
   "metadata": {},
   "source": [
    "diccionario_1 ya es un diccionario. Solo que esta vacio. Para incluir datos dentro de un diccionario, tenemos que\n",
    "agregar pares llave-valor dentro de las llaves ({}),. Cada par llave-valor se separa con una (,)"
   ]
  },
  {
   "cell_type": "code",
   "execution_count": 5,
   "id": "942ed021",
   "metadata": {},
   "outputs": [],
   "source": [
    "diccionario_2 =  {\n",
    "    \"llave_1\":\"valor_1\",\n",
    "    \"llave_2\":\"valor_2\",\n",
    "    \"llave_3\":\"valor_3\",\n",
    "    \"llave_4\":\"valor_4\"\n",
    "}"
   ]
  },
  {
   "cell_type": "markdown",
   "id": "957420b1",
   "metadata": {},
   "source": [
    "Nuestras llaves pueden ser `STRING` como `INT` (pueden ser otras cosas, pero estos son los mas comunes)"
   ]
  },
  {
   "cell_type": "code",
   "execution_count": 6,
   "id": "9bdcf540",
   "metadata": {},
   "outputs": [],
   "source": [
    "diccionario_3 = {\n",
    "    1:'Uno',\n",
    "    2:'dos',\n",
    "    3:'tres',\n",
    "    4:'cuatro'\n",
    "}"
   ]
  },
  {
   "cell_type": "markdown",
   "id": "7562b901",
   "metadata": {},
   "source": [
    "Nuestros valores pueden ser cualquier tipo de datos que se conozcan hasta el momento."
   ]
  },
  {
   "cell_type": "code",
   "execution_count": 7,
   "id": "0df63343",
   "metadata": {},
   "outputs": [],
   "source": [
    "diccionario_4 = {\n",
    "    'int':123,\n",
    "    'float':17.00,\n",
    "    'string':'Hola',\n",
    "    'boolean': True,\n",
    "    'Lista':[1,2,3,4],\n",
    "    \"diccionario\":{\n",
    "        1:'unos',\n",
    "        2:'dos'\n",
    "    }\n",
    "}"
   ]
  },
  {
   "cell_type": "markdown",
   "id": "fb226573",
   "metadata": {},
   "source": [
    "Acceder a un diccionario es tan fácil como escribir el nombre del diccionario, agregar corchetes ( [] ) y pasarle el\n",
    "nombre de la llave ( o clave) que quieres acceder. Por obvias razones, un diccionario no puede tener mas de una\n",
    "llave con el mismo nombre. Si tenemos otras estructuras de datos dentro de nuestro diccionario, podemos acceder a\n",
    "los elementos dentro de ellas después de haber accedido primero a toda la estructura de datos:b"
   ]
  },
  {
   "cell_type": "code",
   "execution_count": 21,
   "id": "834479fd",
   "metadata": {},
   "outputs": [
    {
     "name": "stdout",
     "output_type": "stream",
     "text": [
      "17.0\n",
      "True\n",
      "3\n",
      "[1, 2, 3, 4]\n",
      "dos\n"
     ]
    }
   ],
   "source": [
    "print(diccionario_4['float'])\n",
    "print(diccionario_4['boolean'])\n",
    "print(diccionario_4['Lista'][2])\n",
    "print(diccionario_4['Lista'])\n",
    "print(diccionario_4['diccionario'][2])"
   ]
  }
 ],
 "metadata": {
  "kernelspec": {
   "display_name": "Python 3",
   "language": "python",
   "name": "python3"
  },
  "language_info": {
   "codemirror_mode": {
    "name": "ipython",
    "version": 3
   },
   "file_extension": ".py",
   "mimetype": "text/x-python",
   "name": "python",
   "nbconvert_exporter": "python",
   "pygments_lexer": "ipython3",
   "version": "3.13.2"
  }
 },
 "nbformat": 4,
 "nbformat_minor": 5
}
