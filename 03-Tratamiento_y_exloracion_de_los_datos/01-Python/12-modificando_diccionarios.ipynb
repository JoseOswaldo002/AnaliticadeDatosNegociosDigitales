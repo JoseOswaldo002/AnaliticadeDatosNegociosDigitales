{
 "cells": [
  {
   "cell_type": "markdown",
   "id": "4a2e2aac",
   "metadata": {},
   "source": [
    "# Modificando Diccionarios"
   ]
  },
  {
   "cell_type": "markdown",
   "id": "977baf3b",
   "metadata": {},
   "source": [
    "## Objetivos \n",
    "\n",
    "- Practicar los tres metodos basivos de modificacion de diccionarios: **modificar datos, modificar datos y borrar datos**"
   ]
  },
  {
   "cell_type": "markdown",
   "id": "85e0cae1",
   "metadata": {},
   "source": [
    "## Desarrollo \n",
    "\n",
    "Tenemos 3 maneras basicas de modificar los diccionarios\n",
    "\n",
    "---"
   ]
  },
  {
   "cell_type": "markdown",
   "id": "79fd1fe9",
   "metadata": {},
   "source": [
    "### Agregar datos \n",
    "\n",
    "Para agregar un dato a un diccionario ya existente basta con llamar la llave que queremos agregar y asignar un valor "
   ]
  },
  {
   "cell_type": "code",
   "execution_count": 21,
   "id": "4b17011c",
   "metadata": {},
   "outputs": [],
   "source": [
    "from pprint import pprint"
   ]
  },
  {
   "cell_type": "code",
   "execution_count": 22,
   "id": "8862a1b1",
   "metadata": {},
   "outputs": [
    {
     "name": "stdout",
     "output_type": "stream",
     "text": [
      "{'nombre': 'maluma', 'tel': 5546352431, 'dir': {'colonia': 'El 61', 'calle': 'Pirineos', 'num': 69, 'cp': 42830}}\n"
     ]
    }
   ],
   "source": [
    "info_de_contacto = {\n",
    "    \n",
    "    'nombre':'maluma',\n",
    "    'tel':5546352431,\n",
    "    'dir': {\n",
    "        'colonia':'El 61',\n",
    "        'calle':'Pirineos',\n",
    "        'num':69,\n",
    "        'cp':42830\n",
    "    }\n",
    "}\n",
    "\n",
    "print(info_de_contacto)"
   ]
  },
  {
   "cell_type": "code",
   "execution_count": 23,
   "id": "ce15b100",
   "metadata": {},
   "outputs": [
    {
     "name": "stdout",
     "output_type": "stream",
     "text": [
      "{'dir': {'calle': 'Pirineos', 'colonia': 'El 61', 'cp': 42830, 'num': 69},\n",
      " 'nombre': 'maluma',\n",
      " 'tel': 5546352431}\n"
     ]
    }
   ],
   "source": [
    "pprint(info_de_contacto)"
   ]
  },
  {
   "cell_type": "code",
   "execution_count": 24,
   "id": "78947fbb",
   "metadata": {},
   "outputs": [],
   "source": [
    "info_de_contacto['email'] = 'Maluma_baby@gmail.com'"
   ]
  },
  {
   "cell_type": "code",
   "execution_count": 25,
   "id": "260fffe1",
   "metadata": {},
   "outputs": [
    {
     "name": "stdout",
     "output_type": "stream",
     "text": [
      "{'dir': {'calle': 'Pirineos', 'colonia': 'El 61', 'cp': 42830, 'num': 69},\n",
      " 'email': 'Maluma_baby@gmail.com',\n",
      " 'nombre': 'maluma',\n",
      " 'tel': 5546352431}\n"
     ]
    }
   ],
   "source": [
    "pprint(info_de_contacto)"
   ]
  },
  {
   "cell_type": "markdown",
   "id": "ef6de397",
   "metadata": {},
   "source": [
    "## Modificar para llevar-valor existentes\n",
    "\n",
    "Para modificar un par llave-valor ya existente, basta con reasignar a una llave de nuestro diccionario el nuevo valor que queremos\n",
    "agregar. Por ejemplo, imaginemos que esta persona cambio de dirección:"
   ]
  },
  {
   "cell_type": "code",
   "execution_count": 29,
   "id": "eacffeef",
   "metadata": {},
   "outputs": [
    {
     "name": "stdout",
     "output_type": "stream",
     "text": [
      "{'dir': {'calle': 'Revolucion', 'colonia': 'Escandalo', 'cp': 123, 'num': 13},\n",
      " 'email': 'Maluma_baby@gmail.com',\n",
      " 'nombre': 'maluma',\n",
      " 'tel': 5546352431}\n"
     ]
    }
   ],
   "source": [
    "info_de_contacto['dir'] = {\n",
    "    'colonia':'Escandalo',\n",
    "        'calle':'Revolucion',\n",
    "        'num':13,\n",
    "        'cp':123\n",
    "}\n",
    "\n",
    "pprint(info_de_contacto)"
   ]
  },
  {
   "cell_type": "code",
   "execution_count": 31,
   "id": "4675f940",
   "metadata": {},
   "outputs": [
    {
     "name": "stdout",
     "output_type": "stream",
     "text": [
      "{'dir': {'calle': 'Revolucion',\n",
      "         'colonia': 'SalteSiPuedes',\n",
      "         'cp': 123,\n",
      "         'num': 13},\n",
      " 'email': 'Maluma_baby@gmail.com',\n",
      " 'nombre': 'maluma',\n",
      " 'tel': 5546352431}\n"
     ]
    }
   ],
   "source": [
    "info_de_contacto['dir']['colonia'] = 'SalteSiPuedes'\n",
    "\n",
    "pprint(info_de_contacto)"
   ]
  },
  {
   "cell_type": "markdown",
   "id": "50454fc6",
   "metadata": {},
   "source": [
    "Podemos modifiacar estructuras de datos dentreo de nuestro diccionario. Por ejemplo que tal si hubo un error al agregar la nueva direccion y ahora tenemos que cambiar solamente el numero de residencia "
   ]
  },
  {
   "cell_type": "code",
   "execution_count": 32,
   "id": "e1abea7e",
   "metadata": {},
   "outputs": [
    {
     "name": "stdout",
     "output_type": "stream",
     "text": [
      "{'dir': {'calle': 'Revolucion',\n",
      "         'colonia': 'SalteSiPuedes',\n",
      "         'cp': 123,\n",
      "         'num': 666},\n",
      " 'email': 'Maluma_baby@gmail.com',\n",
      " 'nombre': 'maluma',\n",
      " 'tel': 5546352431}\n"
     ]
    }
   ],
   "source": [
    "info_de_contacto['dir']['num'] = 666\n",
    "\n",
    "pprint(info_de_contacto)"
   ]
  },
  {
   "cell_type": "markdown",
   "id": "a6910e56",
   "metadata": {},
   "source": [
    "## Eliminando datos del diccionario\n",
    "\n",
    "Para eliminar datos se puede usar el metodo `pop`. El nombre de este metodo es identico al metodo para elimiar elementos de una lista. La diferencia es que el metodo `pop` de las listas recibe indices como argumentos recibe llaves como argumentos.\n"
   ]
  },
  {
   "cell_type": "code",
   "execution_count": 33,
   "id": "3c2c292c",
   "metadata": {},
   "outputs": [
    {
     "name": "stdout",
     "output_type": "stream",
     "text": [
      "{'dir': {'calle': 'Revolucion',\n",
      "         'colonia': 'SalteSiPuedes',\n",
      "         'cp': 123,\n",
      "         'num': 666},\n",
      " 'email': 'Maluma_baby@gmail.com',\n",
      " 'nombre': 'maluma'}\n"
     ]
    }
   ],
   "source": [
    "info_de_contacto.pop('tel')\n",
    "pprint(info_de_contacto)"
   ]
  },
  {
   "cell_type": "code",
   "execution_count": null,
   "id": "b54e655c",
   "metadata": {},
   "outputs": [],
   "source": []
  }
 ],
 "metadata": {
  "kernelspec": {
   "display_name": "Python 3",
   "language": "python",
   "name": "python3"
  },
  "language_info": {
   "codemirror_mode": {
    "name": "ipython",
    "version": 3
   },
   "file_extension": ".py",
   "mimetype": "text/x-python",
   "name": "python",
   "nbconvert_exporter": "python",
   "pygments_lexer": "ipython3",
   "version": "3.13.2"
  }
 },
 "nbformat": 4,
 "nbformat_minor": 5
}
