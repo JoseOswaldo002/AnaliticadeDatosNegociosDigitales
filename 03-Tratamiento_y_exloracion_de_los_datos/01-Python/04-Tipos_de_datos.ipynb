{
 "cells": [
  {
   "cell_type": "markdown",
   "id": "7cece272",
   "metadata": {},
   "source": [
    "## Tipos de datos\n",
    "\n",
    "### Objetivos\n",
    "- Hablar sobre los 4 tipos de datos\n",
    "\n",
    "---\n",
    "\n",
    "### Desarrollo \n"
   ]
  },
  {
   "cell_type": "markdown",
   "id": "35772bc3",
   "metadata": {},
   "source": [
    "Se tienen 4 tipos de datos basicos. Veamos el codigo y utilicemos las fuciones `Print` y `Type` para imprimir los tips de manera explicita:"
   ]
  },
  {
   "cell_type": "code",
   "execution_count": null,
   "id": "618c9bba",
   "metadata": {},
   "outputs": [
    {
     "name": "stdout",
     "output_type": "stream",
     "text": [
      "4598\n",
      "<class 'int'>\n",
      "\n",
      "\n",
      "369.432\n",
      "<class 'float'>\n",
      "\n",
      "\n",
      "Yo soy un String\n",
      "<class 'str'>\n",
      "\n",
      "\n"
     ]
    }
   ],
   "source": [
    "var_int = 4598\n",
    "\n",
    "print(var_int)\n",
    "print(type(var_int))\n",
    "print('\\n')\n",
    "\n",
    "# Este es un numero decimal\n",
    "\n",
    "var_float = 369.432\n",
    "print(var_float)\n",
    "print(type(var_float))\n",
    "print('\\n')\n",
    "\n",
    "\n",
    "## Este es un String\n",
    "\n",
    "var_string = \"Yo soy un String\"\n",
    "print(var_string)\n",
    "print(type(var_string))\n",
    "print('\\n')\n",
    "\n",
    "## Este es un booleano\n",
    "\n",
    "var_bool = True\n",
    "print(var_bool)\n",
    "print(type(var_bool))\n",
    "\n",
    "\n"
   ]
  }
 ],
 "metadata": {
  "kernelspec": {
   "display_name": "Python 3",
   "language": "python",
   "name": "python3"
  },
  "language_info": {
   "codemirror_mode": {
    "name": "ipython",
    "version": 3
   },
   "file_extension": ".py",
   "mimetype": "text/x-python",
   "name": "python",
   "nbconvert_exporter": "python",
   "pygments_lexer": "ipython3",
   "version": "3.13.2"
  }
 },
 "nbformat": 4,
 "nbformat_minor": 5
}
