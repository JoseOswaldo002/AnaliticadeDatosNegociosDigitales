{
 "cells": [
  {
   "cell_type": "markdown",
   "id": "4ec38d42",
   "metadata": {},
   "source": [
    "## Operaciones con lista \n",
    "\n",
    "### Copiar una lista con otra"
   ]
  },
  {
   "cell_type": "code",
   "execution_count": 97,
   "id": "2fe324ad",
   "metadata": {},
   "outputs": [
    {
     "name": "stdout",
     "output_type": "stream",
     "text": [
      "Lista 1: [1]\n",
      "Lista 2: [1]\n"
     ]
    }
   ],
   "source": [
    "# Forma incorrecta\n",
    "lista_1 = [1]\n",
    "lista_2 = lista_1\n",
    "\n",
    "print(f'Lista 1: {lista_1}\\nLista 2: {lista_2}')"
   ]
  },
  {
   "cell_type": "code",
   "execution_count": 98,
   "id": "5111ea84",
   "metadata": {},
   "outputs": [
    {
     "name": "stdout",
     "output_type": "stream",
     "text": [
      "[1, 10]\n"
     ]
    }
   ],
   "source": [
    "lista_2.append(10)\n",
    "print(lista_2)"
   ]
  },
  {
   "cell_type": "code",
   "execution_count": 99,
   "id": "37530140",
   "metadata": {},
   "outputs": [
    {
     "name": "stdout",
     "output_type": "stream",
     "text": [
      "[1, 10]\n"
     ]
    }
   ],
   "source": [
    "print(lista_1)"
   ]
  },
  {
   "cell_type": "markdown",
   "id": "893fb8f3",
   "metadata": {},
   "source": [
    "## Slicing o Rebanadas"
   ]
  },
  {
   "cell_type": "code",
   "execution_count": 100,
   "id": "9e6274ce",
   "metadata": {},
   "outputs": [
    {
     "data": {
      "text/plain": [
       "[3, 4, 5, 6, 7, 8]"
      ]
     },
     "execution_count": 100,
     "metadata": {},
     "output_type": "execute_result"
    }
   ],
   "source": [
    "list=[3,4,5,6,7,8]\n",
    "list[:]"
   ]
  },
  {
   "cell_type": "code",
   "execution_count": 101,
   "id": "be37b0a1",
   "metadata": {},
   "outputs": [
    {
     "data": {
      "text/plain": [
       "[1, 10, 11]"
      ]
     },
     "execution_count": 101,
     "metadata": {},
     "output_type": "execute_result"
    }
   ],
   "source": [
    "# Forma correcta de copiar\n",
    "\n",
    "lista_2 = lista_1[:]\n",
    "lista_2.append(11)\n",
    "lista_2\n"
   ]
  },
  {
   "cell_type": "code",
   "execution_count": 102,
   "id": "18859da3",
   "metadata": {},
   "outputs": [
    {
     "name": "stdout",
     "output_type": "stream",
     "text": [
      "[4, 6, 7, 9, 12]\n"
     ]
    }
   ],
   "source": [
    "x = [4,6,7,9,12]\n",
    "y = []\n",
    "\n",
    "y = x.copy()\n",
    "\n",
    "print(y)"
   ]
  },
  {
   "cell_type": "markdown",
   "id": "e86a1ab6",
   "metadata": {},
   "source": [
    "### Slicing o Rebanadas - Indices Negativos\n",
    "\n",
    "Observa el fragmento de codigo a continuacion\n",
    "\n",
    "`my_list[start:end]`\n",
    "\n",
    "para conformar:\n",
    "\n",
    "1. `start` es el indice del primer elemento incluido en la rebanada\n",
    "2. `end` el el indice del primer elemento no incluido en la rebanada"
   ]
  },
  {
   "cell_type": "code",
   "execution_count": 103,
   "id": "c943eba3",
   "metadata": {},
   "outputs": [
    {
     "name": "stdout",
     "output_type": "stream",
     "text": [
      "La lista original es  [10, 8, 6, 4, 2]\n",
      "La nueva lista es: [10, 8, 6]\n"
     ]
    }
   ],
   "source": [
    "HALO = [10,8,6,4,2]\n",
    "HALO_Reach=HALO[0:3]\n",
    "print(f'La lista original es  {HALO}\\nLa nueva lista es: {HALO_Reach}')"
   ]
  },
  {
   "cell_type": "code",
   "execution_count": 104,
   "id": "4fbeb3c0",
   "metadata": {},
   "outputs": [
    {
     "data": {
      "text/plain": [
       "[10, 4, 2]"
      ]
     },
     "execution_count": 104,
     "metadata": {},
     "output_type": "execute_result"
    }
   ],
   "source": [
    "# Dada la lista [10,8,6,4,2] eliminar los numeros 8 y 6\n",
    "\n",
    "lista_3 = [10,8,6,4,2]\n",
    "\n",
    "del lista_3 [1:3]\n",
    "\n",
    "lista_3"
   ]
  },
  {
   "cell_type": "markdown",
   "id": "bf3ab7b9",
   "metadata": {},
   "source": [
    "### `pop` remueve el ultimo elemento de la lista si se llama sin argumentos"
   ]
  },
  {
   "cell_type": "code",
   "execution_count": 105,
   "id": "9715d466",
   "metadata": {},
   "outputs": [
    {
     "data": {
      "text/plain": [
       "[10, 4, 2]"
      ]
     },
     "execution_count": 105,
     "metadata": {},
     "output_type": "execute_result"
    }
   ],
   "source": [
    "lista_3"
   ]
  },
  {
   "cell_type": "code",
   "execution_count": 106,
   "id": "faa4a8ac",
   "metadata": {},
   "outputs": [
    {
     "data": {
      "text/plain": [
       "[10, 4]"
      ]
     },
     "execution_count": 106,
     "metadata": {},
     "output_type": "execute_result"
    }
   ],
   "source": [
    "lista_3.pop()\n",
    "lista_3"
   ]
  },
  {
   "cell_type": "code",
   "execution_count": 107,
   "id": "50c07dd8",
   "metadata": {},
   "outputs": [],
   "source": [
    "lista_3 = []\n",
    "\n",
    "lista_3.append(7)\n",
    "lista_3.append(5)\n",
    "lista_3.append(9)\n",
    "lista_3.append(11)"
   ]
  },
  {
   "cell_type": "code",
   "execution_count": 108,
   "id": "3fb0abc6",
   "metadata": {},
   "outputs": [],
   "source": [
    "lista_3.append(5)"
   ]
  },
  {
   "cell_type": "code",
   "execution_count": 109,
   "id": "2dffc938",
   "metadata": {},
   "outputs": [
    {
     "data": {
      "text/plain": [
       "[7, 5, 9, 11, 5]"
      ]
     },
     "execution_count": 109,
     "metadata": {},
     "output_type": "execute_result"
    }
   ],
   "source": [
    "lista_3"
   ]
  },
  {
   "cell_type": "code",
   "execution_count": 110,
   "id": "ea66b85d",
   "metadata": {},
   "outputs": [
    {
     "data": {
      "text/plain": [
       "[7, 9, 11, 5]"
      ]
     },
     "execution_count": 110,
     "metadata": {},
     "output_type": "execute_result"
    }
   ],
   "source": [
    "lista_3.pop(1)\n",
    "lista_3"
   ]
  },
  {
   "cell_type": "code",
   "execution_count": 111,
   "id": "a62edcad",
   "metadata": {},
   "outputs": [
    {
     "name": "stdout",
     "output_type": "stream",
     "text": [
      "['a', 12, True]\n",
      "<class 'list'>\n"
     ]
    }
   ],
   "source": [
    "list_exampler = [\"a\", 12, True]\n",
    "print(list_exampler)\n",
    "print(type(list_exampler))"
   ]
  },
  {
   "cell_type": "code",
   "execution_count": 112,
   "id": "04f66d55",
   "metadata": {},
   "outputs": [
    {
     "name": "stdout",
     "output_type": "stream",
     "text": [
      "[['hallway', 100], ['kitchen', 85]]\n",
      "<class 'list'>\n"
     ]
    }
   ],
   "source": [
    "# Lista de lista \n",
    "list_house = [['hallway',100],['kitchen',85]]\n",
    "print(list_house)\n",
    "print(type(list_house))"
   ]
  },
  {
   "cell_type": "code",
   "execution_count": 113,
   "id": "29c64da7",
   "metadata": {},
   "outputs": [
    {
     "data": {
      "text/plain": [
       "'kitchen'"
      ]
     },
     "execution_count": 113,
     "metadata": {},
     "output_type": "execute_result"
    }
   ],
   "source": [
    "# Tiene acceso a la lista en la posicion 0 y su elemento en la posicion 1\n",
    "list_house[1][0]"
   ]
  },
  {
   "cell_type": "code",
   "execution_count": 114,
   "id": "1bceceea",
   "metadata": {},
   "outputs": [
    {
     "name": "stdout",
     "output_type": "stream",
     "text": [
      "['heydy', 22, 'ines', 54, 'henry', 33, 'oscar', 38]\n"
     ]
    }
   ],
   "source": [
    "list_family = ['heydy', 22,'ines',54,'henry',33,'oscar',38]\n",
    "print(list_family)"
   ]
  },
  {
   "cell_type": "code",
   "execution_count": 115,
   "id": "258091df",
   "metadata": {},
   "outputs": [
    {
     "name": "stdout",
     "output_type": "stream",
     "text": [
      "ines\n",
      "ines\n"
     ]
    }
   ],
   "source": [
    "# indexacion\n",
    "print(list_family[2])\n",
    "\n",
    "# indexacion\n",
    "print(list_family[-6])"
   ]
  },
  {
   "cell_type": "code",
   "execution_count": 116,
   "id": "b0037500",
   "metadata": {},
   "outputs": [
    {
     "name": "stdout",
     "output_type": "stream",
     "text": [
      "[54, 'henry']\n",
      "['heydy', 22, 'ines', 54, 'henry']\n",
      "[33, 'oscar', 38]\n"
     ]
    }
   ],
   "source": [
    "# slicing [ start:end ]\n",
    "#           inclusive: exclusive\n",
    "\n",
    "print(list_family[3:5]) # no toma el ultimo digito\n",
    "print(list_family[:5]) # Desde el inicio hasta la posicion 4\n",
    "print(list_family[5:]) # Desde la posicion 5 hasta el final"
   ]
  },
  {
   "cell_type": "markdown",
   "id": "92769db8",
   "metadata": {},
   "source": [
    "**Manipulando listas**"
   ]
  },
  {
   "cell_type": "code",
   "execution_count": 117,
   "id": "566c631a",
   "metadata": {},
   "outputs": [
    {
     "name": "stdout",
     "output_type": "stream",
     "text": [
      "['heydy', 22, 'ines', 54, 'henry', 33, 'oscar', 38]\n"
     ]
    }
   ],
   "source": [
    "print(list_family)"
   ]
  },
  {
   "cell_type": "code",
   "execution_count": 118,
   "id": "57d88ce1",
   "metadata": {},
   "outputs": [
    {
     "name": "stdout",
     "output_type": "stream",
     "text": [
      "['heydy', 22, 'ines', 54, 'henry', 33, 'oscar', 37]\n",
      "['Mayumy', 24, 'ines', 54, 'henry', 33, 'oscar', 37]\n"
     ]
    }
   ],
   "source": [
    "list_family[-1] = 37\n",
    "print(list_family)\n",
    "\n",
    "list_family[:2] = ['Mayumy',24]\n",
    "print(list_family)"
   ]
  },
  {
   "cell_type": "code",
   "execution_count": 119,
   "id": "41cba250",
   "metadata": {},
   "outputs": [
    {
     "name": "stdout",
     "output_type": "stream",
     "text": [
      "['Mayumy', 24, 'ines', 54, 'henry', 33, 'oscar', 37, 'Achuchena', 12]\n",
      "['Mayumy', 24, 'ines', 'henry', 33, 'oscar', 37, 'Achuchena', 12]\n"
     ]
    }
   ],
   "source": [
    "# Agregar y remover elementos de la lista\n",
    "\n",
    "# Agregar\n",
    "\n",
    "fam_Ext = list_family + ['Achuchena', 12]\n",
    "print(fam_Ext)\n",
    "\n",
    "# Eliminar\n",
    "del(fam_Ext[3])\n",
    "#fam_Ext.pop(3)\n",
    "#fam_Ext.remove(54)\n",
    "print(fam_Ext)"
   ]
  },
  {
   "cell_type": "code",
   "execution_count": 120,
   "id": "3a3bf668",
   "metadata": {},
   "outputs": [
    {
     "name": "stdout",
     "output_type": "stream",
     "text": [
      "['hallway', 11.25, 'kitchen', 18.0, 'chill zone', 20.0, 'bedroom', 10.75, 'bathroom', 10.5, 'garage', '15.45']\n"
     ]
    }
   ],
   "source": [
    "# Ejercicio - Eliminar 'poolhouse' y 24.5\n",
    "\n",
    "areas = [\"hallway\", 11.25, 'kitchen', 18.0,\n",
    "         \"chill zone\", 20.0, 'bedroom', 10.75,\n",
    "         \"bathroom\", 10.50, \"poolhouse\", 24.5,\n",
    "         'garage', '15.45']\n",
    "\n",
    "del(areas[10:12])\n",
    "print(areas)\n"
   ]
  },
  {
   "cell_type": "markdown",
   "id": "337b2e32",
   "metadata": {},
   "source": [
    "# Funciones y paquetes "
   ]
  },
  {
   "cell_type": "markdown",
   "id": "035371b3",
   "metadata": {},
   "source": [
    "## **Funcion**\n",
    "\n",
    "Es una pieza de codigo reutiblizable, destinada a resolver una tarea en particular "
   ]
  },
  {
   "cell_type": "code",
   "execution_count": 121,
   "id": "4e790ab9",
   "metadata": {},
   "outputs": [
    {
     "name": "stdout",
     "output_type": "stream",
     "text": [
      "[22, 54, 33, 38, 36]\n",
      "El tamaño  de la lista es 5\n",
      "El tamaño  de la lista es 54\n"
     ]
    }
   ],
   "source": [
    "list_fam = [22, 54, 33, 38, 36]\n",
    "print(list_fam)\n",
    "print(f'El tamaño  de la lista es {len(list_fam)}')\n",
    "print(f'El tamaño  de la lista es {max(list_fam)}')"
   ]
  },
  {
   "cell_type": "code",
   "execution_count": 122,
   "id": "2db212a9",
   "metadata": {},
   "outputs": [
    {
     "data": {
      "text/plain": [
       "1.69"
      ]
     },
     "execution_count": 122,
     "metadata": {},
     "output_type": "execute_result"
    }
   ],
   "source": [
    "round(1.689,2)"
   ]
  },
  {
   "cell_type": "code",
   "execution_count": 123,
   "id": "3308532a",
   "metadata": {},
   "outputs": [
    {
     "name": "stdout",
     "output_type": "stream",
     "text": [
      "Help on built-in function min in module builtins:\n",
      "\n",
      "min(...)\n",
      "    min(iterable, *[, default=obj, key=func]) -> value\n",
      "    min(arg1, arg2, *args, *[, key=func]) -> value\n",
      "\n",
      "    With a single iterable argument, return its smallest item. The\n",
      "    default keyword-only argument specifies an object to return if\n",
      "    the provided iterable is empty.\n",
      "    With two or more positional arguments, return the smallest argument.\n",
      "\n"
     ]
    }
   ],
   "source": [
    "help(min)"
   ]
  },
  {
   "cell_type": "code",
   "execution_count": 124,
   "id": "2d3bb4ee",
   "metadata": {},
   "outputs": [
    {
     "name": "stdout",
     "output_type": "stream",
     "text": [
      "[18.0, 20.0, 51.25]\n",
      "[18.0, 20.0, 51.25]\n",
      "[51.25, 20.0, 18.0]\n"
     ]
    }
   ],
   "source": [
    "first = [51.25,18.0,20.0]\n",
    "full_sorted = sorted(first) # ordena de forma acendente\n",
    "full_sorted_asc = sorted (first,reverse=False) # Ascendente\n",
    "full_sorted_desc = sorted (first,reverse=True) # Decentente\n",
    "\n",
    "print(full_sorted)\n",
    "print(full_sorted_asc)\n",
    "print(full_sorted_desc)\n"
   ]
  },
  {
   "cell_type": "markdown",
   "id": "c3c94295",
   "metadata": {},
   "source": [
    "### **Metodos**\n",
    "\n",
    "En python todo es objeto. Y cada objeto tiene metodos especificos asociados\n",
    "\n",
    "- Objetos con diferentes tipos pueden tener metodos con el mismo nombre"
   ]
  },
  {
   "cell_type": "code",
   "execution_count": 127,
   "id": "16c76815",
   "metadata": {},
   "outputs": [
    {
     "name": "stdout",
     "output_type": "stream",
     "text": [
      "Indice: 4\n",
      "Contar: 2\n"
     ]
    }
   ],
   "source": [
    "lis_fam = ['heydy', 22, 'ines', 54, 'henry', 33, 'oscar', 54]\n",
    "print(f'Indice: {lis_fam.index(\"henry\")}')\n",
    "print(f\"Contar: {lis_fam.count(54)}\")\n"
   ]
  },
  {
   "cell_type": "code",
   "execution_count": 128,
   "id": "3a938819",
   "metadata": {},
   "outputs": [
    {
     "name": "stdout",
     "output_type": "stream",
     "text": [
      "['heydy', 22, 'ines', 54, 33, 'oscar', 54]\n"
     ]
    }
   ],
   "source": [
    "del(lis_fam[lis_fam.index('henry')])\n",
    "print(lis_fam)"
   ]
  },
  {
   "cell_type": "code",
   "execution_count": 129,
   "id": "e4ae981c",
   "metadata": {},
   "outputs": [
    {
     "name": "stdout",
     "output_type": "stream",
     "text": [
      "Nayumi\n"
     ]
    }
   ],
   "source": [
    "name = 'nayumi'\n",
    "print(name.capitalize())"
   ]
  },
  {
   "cell_type": "code",
   "execution_count": 133,
   "id": "8648235f",
   "metadata": {},
   "outputs": [
    {
     "name": "stdout",
     "output_type": "stream",
     "text": [
      "Susel\n"
     ]
    }
   ],
   "source": [
    "lista_entornos = ['susel','brandon','gustambo','grabiel']\n",
    "lista_entornos = lista_entornos[0].capitalize()\n",
    "print(lista_entornos)"
   ]
  },
  {
   "cell_type": "code",
   "execution_count": 134,
   "id": "d8b1bc77",
   "metadata": {},
   "outputs": [
    {
     "name": "stdout",
     "output_type": "stream",
     "text": [
      "na*umi\n"
     ]
    }
   ],
   "source": [
    "print(name.replace('y','*'))"
   ]
  },
  {
   "cell_type": "code",
   "execution_count": 135,
   "id": "09f55eb3",
   "metadata": {},
   "outputs": [
    {
     "data": {
      "text/plain": [
       "'NAYUMI'"
      ]
     },
     "execution_count": 135,
     "metadata": {},
     "output_type": "execute_result"
    }
   ],
   "source": [
    "name.upper()"
   ]
  },
  {
   "cell_type": "code",
   "execution_count": 137,
   "id": "26115fa2",
   "metadata": {},
   "outputs": [
    {
     "name": "stdout",
     "output_type": "stream",
     "text": [
      "['heydy', 22, 'ines', 54, 33, 'oscar', 54]\n",
      "[54, 'oscar', 33, 54, 'ines', 22, 'heydy']\n"
     ]
    }
   ],
   "source": [
    "print(lis_fam)\n",
    "lis_fam.reverse()\n",
    "print(lis_fam)"
   ]
  }
 ],
 "metadata": {
  "kernelspec": {
   "display_name": "Python 3",
   "language": "python",
   "name": "python3"
  },
  "language_info": {
   "codemirror_mode": {
    "name": "ipython",
    "version": 3
   },
   "file_extension": ".py",
   "mimetype": "text/x-python",
   "name": "python",
   "nbconvert_exporter": "python",
   "pygments_lexer": "ipython3",
   "version": "3.13.2"
  }
 },
 "nbformat": 4,
 "nbformat_minor": 5
}
